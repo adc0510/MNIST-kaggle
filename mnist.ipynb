{
 "cells": [
  {
   "cell_type": "code",
   "execution_count": 135,
   "metadata": {},
   "outputs": [],
   "source": [
    "import pandas as pd\n",
    "import numpy as np\n",
    "import tensorflow as tf\n",
    "import matplotlib.pyplot as plt"
   ]
  },
  {
   "cell_type": "code",
   "execution_count": 136,
   "metadata": {},
   "outputs": [
    {
     "data": {
      "text/html": [
       "<div>\n",
       "<style scoped>\n",
       "    .dataframe tbody tr th:only-of-type {\n",
       "        vertical-align: middle;\n",
       "    }\n",
       "\n",
       "    .dataframe tbody tr th {\n",
       "        vertical-align: top;\n",
       "    }\n",
       "\n",
       "    .dataframe thead th {\n",
       "        text-align: right;\n",
       "    }\n",
       "</style>\n",
       "<table border=\"1\" class=\"dataframe\">\n",
       "  <thead>\n",
       "    <tr style=\"text-align: right;\">\n",
       "      <th></th>\n",
       "      <th>label</th>\n",
       "      <th>pixel0</th>\n",
       "      <th>pixel1</th>\n",
       "      <th>pixel2</th>\n",
       "      <th>pixel3</th>\n",
       "      <th>pixel4</th>\n",
       "      <th>pixel5</th>\n",
       "      <th>pixel6</th>\n",
       "      <th>pixel7</th>\n",
       "      <th>pixel8</th>\n",
       "      <th>...</th>\n",
       "      <th>pixel774</th>\n",
       "      <th>pixel775</th>\n",
       "      <th>pixel776</th>\n",
       "      <th>pixel777</th>\n",
       "      <th>pixel778</th>\n",
       "      <th>pixel779</th>\n",
       "      <th>pixel780</th>\n",
       "      <th>pixel781</th>\n",
       "      <th>pixel782</th>\n",
       "      <th>pixel783</th>\n",
       "    </tr>\n",
       "  </thead>\n",
       "  <tbody>\n",
       "    <tr>\n",
       "      <th>0</th>\n",
       "      <td>1</td>\n",
       "      <td>0</td>\n",
       "      <td>0</td>\n",
       "      <td>0</td>\n",
       "      <td>0</td>\n",
       "      <td>0</td>\n",
       "      <td>0</td>\n",
       "      <td>0</td>\n",
       "      <td>0</td>\n",
       "      <td>0</td>\n",
       "      <td>...</td>\n",
       "      <td>0</td>\n",
       "      <td>0</td>\n",
       "      <td>0</td>\n",
       "      <td>0</td>\n",
       "      <td>0</td>\n",
       "      <td>0</td>\n",
       "      <td>0</td>\n",
       "      <td>0</td>\n",
       "      <td>0</td>\n",
       "      <td>0</td>\n",
       "    </tr>\n",
       "    <tr>\n",
       "      <th>1</th>\n",
       "      <td>0</td>\n",
       "      <td>0</td>\n",
       "      <td>0</td>\n",
       "      <td>0</td>\n",
       "      <td>0</td>\n",
       "      <td>0</td>\n",
       "      <td>0</td>\n",
       "      <td>0</td>\n",
       "      <td>0</td>\n",
       "      <td>0</td>\n",
       "      <td>...</td>\n",
       "      <td>0</td>\n",
       "      <td>0</td>\n",
       "      <td>0</td>\n",
       "      <td>0</td>\n",
       "      <td>0</td>\n",
       "      <td>0</td>\n",
       "      <td>0</td>\n",
       "      <td>0</td>\n",
       "      <td>0</td>\n",
       "      <td>0</td>\n",
       "    </tr>\n",
       "    <tr>\n",
       "      <th>2</th>\n",
       "      <td>1</td>\n",
       "      <td>0</td>\n",
       "      <td>0</td>\n",
       "      <td>0</td>\n",
       "      <td>0</td>\n",
       "      <td>0</td>\n",
       "      <td>0</td>\n",
       "      <td>0</td>\n",
       "      <td>0</td>\n",
       "      <td>0</td>\n",
       "      <td>...</td>\n",
       "      <td>0</td>\n",
       "      <td>0</td>\n",
       "      <td>0</td>\n",
       "      <td>0</td>\n",
       "      <td>0</td>\n",
       "      <td>0</td>\n",
       "      <td>0</td>\n",
       "      <td>0</td>\n",
       "      <td>0</td>\n",
       "      <td>0</td>\n",
       "    </tr>\n",
       "    <tr>\n",
       "      <th>3</th>\n",
       "      <td>4</td>\n",
       "      <td>0</td>\n",
       "      <td>0</td>\n",
       "      <td>0</td>\n",
       "      <td>0</td>\n",
       "      <td>0</td>\n",
       "      <td>0</td>\n",
       "      <td>0</td>\n",
       "      <td>0</td>\n",
       "      <td>0</td>\n",
       "      <td>...</td>\n",
       "      <td>0</td>\n",
       "      <td>0</td>\n",
       "      <td>0</td>\n",
       "      <td>0</td>\n",
       "      <td>0</td>\n",
       "      <td>0</td>\n",
       "      <td>0</td>\n",
       "      <td>0</td>\n",
       "      <td>0</td>\n",
       "      <td>0</td>\n",
       "    </tr>\n",
       "    <tr>\n",
       "      <th>4</th>\n",
       "      <td>0</td>\n",
       "      <td>0</td>\n",
       "      <td>0</td>\n",
       "      <td>0</td>\n",
       "      <td>0</td>\n",
       "      <td>0</td>\n",
       "      <td>0</td>\n",
       "      <td>0</td>\n",
       "      <td>0</td>\n",
       "      <td>0</td>\n",
       "      <td>...</td>\n",
       "      <td>0</td>\n",
       "      <td>0</td>\n",
       "      <td>0</td>\n",
       "      <td>0</td>\n",
       "      <td>0</td>\n",
       "      <td>0</td>\n",
       "      <td>0</td>\n",
       "      <td>0</td>\n",
       "      <td>0</td>\n",
       "      <td>0</td>\n",
       "    </tr>\n",
       "  </tbody>\n",
       "</table>\n",
       "<p>5 rows × 785 columns</p>\n",
       "</div>"
      ],
      "text/plain": [
       "   label  pixel0  pixel1  pixel2  pixel3  pixel4  pixel5  pixel6  pixel7  \\\n",
       "0      1       0       0       0       0       0       0       0       0   \n",
       "1      0       0       0       0       0       0       0       0       0   \n",
       "2      1       0       0       0       0       0       0       0       0   \n",
       "3      4       0       0       0       0       0       0       0       0   \n",
       "4      0       0       0       0       0       0       0       0       0   \n",
       "\n",
       "   pixel8  ...  pixel774  pixel775  pixel776  pixel777  pixel778  pixel779  \\\n",
       "0       0  ...         0         0         0         0         0         0   \n",
       "1       0  ...         0         0         0         0         0         0   \n",
       "2       0  ...         0         0         0         0         0         0   \n",
       "3       0  ...         0         0         0         0         0         0   \n",
       "4       0  ...         0         0         0         0         0         0   \n",
       "\n",
       "   pixel780  pixel781  pixel782  pixel783  \n",
       "0         0         0         0         0  \n",
       "1         0         0         0         0  \n",
       "2         0         0         0         0  \n",
       "3         0         0         0         0  \n",
       "4         0         0         0         0  \n",
       "\n",
       "[5 rows x 785 columns]"
      ]
     },
     "execution_count": 136,
     "metadata": {},
     "output_type": "execute_result"
    }
   ],
   "source": [
    "df = pd.read_csv(\"train.csv\")\n",
    "df.head(5)"
   ]
  },
  {
   "cell_type": "code",
   "execution_count": 137,
   "metadata": {},
   "outputs": [
    {
     "data": {
      "text/plain": [
       "(42000, 785)"
      ]
     },
     "execution_count": 137,
     "metadata": {},
     "output_type": "execute_result"
    }
   ],
   "source": [
    "df.shape"
   ]
  },
  {
   "cell_type": "code",
   "execution_count": 138,
   "metadata": {},
   "outputs": [
    {
     "name": "stdout",
     "output_type": "stream",
     "text": [
      "(784,)\n"
     ]
    }
   ],
   "source": [
    "label = df[\"label\"]\n",
    "col = df.columns\n",
    "col = col.delete(0)\n",
    "img = df[col]\n",
    "a = [x for x in range(784)]\n",
    "b = np.reshape(a,(28,28))\n",
    "print(np.array(a).shape)\n",
    "lst_img = []\n",
    "for x in range(img.shape[0]):\n",
    "    a = np.array(img.iloc[x])\n",
    "    img_s = np.reshape(a,(28,28))\n",
    "    lst_img.append(img_s)"
   ]
  },
  {
   "cell_type": "code",
   "execution_count": 139,
   "metadata": {},
   "outputs": [],
   "source": [
    "lst_img = np.array(lst_img)"
   ]
  },
  {
   "cell_type": "code",
   "execution_count": 140,
   "metadata": {},
   "outputs": [],
   "source": [
    "model = tf.keras.Sequential([\n",
    "    tf.keras.layers.Conv2D(64,3,activation=\"relu\", input_shape = (28,28,1)),\n",
    "    tf.keras.layers.Flatten(),\n",
    "    tf.keras.layers.Dense(units = 10),\n",
    "    tf.keras.layers.Dense(units=1)\n",
    "])"
   ]
  },
  {
   "cell_type": "code",
   "execution_count": 141,
   "metadata": {},
   "outputs": [],
   "source": [
    "model_2 = tf.keras.Sequential([\n",
    "    tf.keras.layers.Dense(units=128, activation='relu'),\n",
    "    tf.keras.layers.Dense(units=10, activation='softmax'),\n",
    "    tf.keras.layers.Dense(1)\n",
    "])"
   ]
  },
  {
   "cell_type": "code",
   "execution_count": 142,
   "metadata": {},
   "outputs": [],
   "source": [
    "model_2.compile(optimizer=tf.keras.optimizers.Adam(0.001),\n",
    "    loss=tf.keras.losses.mean_absolute_error,\n",
    "    metrics=[tf.keras.metrics.SparseCategoricalAccuracy()],)"
   ]
  },
  {
   "cell_type": "code",
   "execution_count": 143,
   "metadata": {},
   "outputs": [
    {
     "name": "stdout",
     "output_type": "stream",
     "text": [
      "(42000, 785)\n"
     ]
    }
   ],
   "source": [
    "print(df.shape)"
   ]
  },
  {
   "cell_type": "code",
   "execution_count": 144,
   "metadata": {},
   "outputs": [
    {
     "data": {
      "text/plain": [
       "Index(['pixel0', 'pixel1', 'pixel2', 'pixel3', 'pixel4', 'pixel5', 'pixel6',\n",
       "       'pixel7', 'pixel8', 'pixel9',\n",
       "       ...\n",
       "       'pixel774', 'pixel775', 'pixel776', 'pixel777', 'pixel778', 'pixel779',\n",
       "       'pixel780', 'pixel781', 'pixel782', 'pixel783'],\n",
       "      dtype='object', length=784)"
      ]
     },
     "execution_count": 144,
     "metadata": {},
     "output_type": "execute_result"
    }
   ],
   "source": [
    "col"
   ]
  },
  {
   "cell_type": "code",
   "execution_count": 145,
   "metadata": {},
   "outputs": [],
   "source": [
    "x_model_2 = []\n",
    "img = df[col]\n",
    "for x in range(img.shape[0]):\n",
    "    x_model_2.append(img.iloc[x])"
   ]
  },
  {
   "cell_type": "code",
   "execution_count": 146,
   "metadata": {},
   "outputs": [],
   "source": [
    "x_model_2 = np.array(x_model_2)"
   ]
  },
  {
   "cell_type": "code",
   "execution_count": 147,
   "metadata": {},
   "outputs": [],
   "source": [
    "model.compile(optimizer=\"adam\",loss=\"mean_squared_error\")"
   ]
  },
  {
   "cell_type": "code",
   "execution_count": 148,
   "metadata": {},
   "outputs": [
    {
     "name": "stdout",
     "output_type": "stream",
     "text": [
      "(42000, 28, 28) (42000,)\n"
     ]
    }
   ],
   "source": [
    "print(lst_img.shape,label.shape)"
   ]
  },
  {
   "cell_type": "code",
   "execution_count": 149,
   "metadata": {},
   "outputs": [
    {
     "name": "stdout",
     "output_type": "stream",
     "text": [
      "Epoch 1/100\n",
      "420/420 [==============================] - 2s 3ms/step - loss: 3.5852 - sparse_categorical_accuracy: 0.0984\n",
      "Epoch 2/100\n",
      "420/420 [==============================] - 2s 4ms/step - loss: 3.1142 - sparse_categorical_accuracy: 0.0984\n",
      "Epoch 3/100\n",
      "420/420 [==============================] - 2s 4ms/step - loss: 2.7912 - sparse_categorical_accuracy: 0.0984\n",
      "Epoch 4/100\n",
      "420/420 [==============================] - 1s 3ms/step - loss: 2.5405 - sparse_categorical_accuracy: 0.0984\n",
      "Epoch 5/100\n",
      "420/420 [==============================] - 2s 4ms/step - loss: 2.4826 - sparse_categorical_accuracy: 0.0984\n",
      "Epoch 6/100\n",
      "420/420 [==============================] - 1s 3ms/step - loss: 2.4290 - sparse_categorical_accuracy: 0.0984\n",
      "Epoch 7/100\n",
      "420/420 [==============================] - 1s 3ms/step - loss: 2.2801 - sparse_categorical_accuracy: 0.0984\n",
      "Epoch 8/100\n",
      "420/420 [==============================] - 1s 4ms/step - loss: 2.2345 - sparse_categorical_accuracy: 0.0984\n",
      "Epoch 9/100\n",
      "420/420 [==============================] - 1s 3ms/step - loss: 2.2002 - sparse_categorical_accuracy: 0.0984\n",
      "Epoch 10/100\n",
      "420/420 [==============================] - 1s 3ms/step - loss: 2.1834 - sparse_categorical_accuracy: 0.0984\n",
      "Epoch 11/100\n",
      "420/420 [==============================] - 1s 3ms/step - loss: 2.1530 - sparse_categorical_accuracy: 0.0984\n",
      "Epoch 12/100\n",
      "420/420 [==============================] - 1s 3ms/step - loss: 2.1322 - sparse_categorical_accuracy: 0.0984\n",
      "Epoch 13/100\n",
      "420/420 [==============================] - 1s 3ms/step - loss: 2.2299 - sparse_categorical_accuracy: 0.0984\n",
      "Epoch 14/100\n",
      "420/420 [==============================] - 1s 3ms/step - loss: 2.1708 - sparse_categorical_accuracy: 0.0984\n",
      "Epoch 15/100\n",
      "420/420 [==============================] - 1s 3ms/step - loss: 2.1620 - sparse_categorical_accuracy: 0.0984\n",
      "Epoch 16/100\n",
      "420/420 [==============================] - 1s 3ms/step - loss: 2.1543 - sparse_categorical_accuracy: 0.0984\n",
      "Epoch 17/100\n",
      "420/420 [==============================] - 1s 3ms/step - loss: 2.1352 - sparse_categorical_accuracy: 0.0984\n",
      "Epoch 18/100\n",
      "420/420 [==============================] - 1s 3ms/step - loss: 2.1213 - sparse_categorical_accuracy: 0.0984\n",
      "Epoch 19/100\n",
      "420/420 [==============================] - 1s 3ms/step - loss: 2.1193 - sparse_categorical_accuracy: 0.0984\n",
      "Epoch 20/100\n",
      "420/420 [==============================] - 1s 3ms/step - loss: 2.1470 - sparse_categorical_accuracy: 0.0984\n",
      "Epoch 21/100\n",
      "420/420 [==============================] - 1s 3ms/step - loss: 2.1285 - sparse_categorical_accuracy: 0.0984\n",
      "Epoch 22/100\n",
      "420/420 [==============================] - 1s 3ms/step - loss: 2.2085 - sparse_categorical_accuracy: 0.0984\n",
      "Epoch 23/100\n",
      "420/420 [==============================] - 1s 3ms/step - loss: 2.1850 - sparse_categorical_accuracy: 0.0984\n",
      "Epoch 24/100\n",
      "420/420 [==============================] - 1s 3ms/step - loss: 2.2081 - sparse_categorical_accuracy: 0.0984\n",
      "Epoch 25/100\n",
      "420/420 [==============================] - 1s 3ms/step - loss: 2.1699 - sparse_categorical_accuracy: 0.0984\n",
      "Epoch 26/100\n",
      "420/420 [==============================] - 1s 3ms/step - loss: 2.2034 - sparse_categorical_accuracy: 0.0984\n",
      "Epoch 27/100\n",
      "420/420 [==============================] - 1s 3ms/step - loss: 2.1296 - sparse_categorical_accuracy: 0.0984\n",
      "Epoch 28/100\n",
      "420/420 [==============================] - 1s 3ms/step - loss: 2.1139 - sparse_categorical_accuracy: 0.0984\n",
      "Epoch 29/100\n",
      "420/420 [==============================] - 1s 3ms/step - loss: 2.1538 - sparse_categorical_accuracy: 0.0984\n",
      "Epoch 30/100\n",
      "420/420 [==============================] - 1s 3ms/step - loss: 2.1272 - sparse_categorical_accuracy: 0.0984\n",
      "Epoch 31/100\n",
      "420/420 [==============================] - 1s 3ms/step - loss: 2.2275 - sparse_categorical_accuracy: 0.0984\n",
      "Epoch 32/100\n",
      "420/420 [==============================] - 1s 3ms/step - loss: 2.2506 - sparse_categorical_accuracy: 0.0984\n",
      "Epoch 33/100\n",
      "420/420 [==============================] - 1s 3ms/step - loss: 2.1167 - sparse_categorical_accuracy: 0.0984\n",
      "Epoch 34/100\n",
      "420/420 [==============================] - 1s 3ms/step - loss: 2.2510 - sparse_categorical_accuracy: 0.0984\n",
      "Epoch 35/100\n",
      "420/420 [==============================] - 1s 3ms/step - loss: 2.1896 - sparse_categorical_accuracy: 0.0984\n",
      "Epoch 36/100\n",
      "420/420 [==============================] - 1s 3ms/step - loss: 2.1394 - sparse_categorical_accuracy: 0.0984\n",
      "Epoch 37/100\n",
      "420/420 [==============================] - 1s 3ms/step - loss: 2.1013 - sparse_categorical_accuracy: 0.0984\n",
      "Epoch 38/100\n",
      "420/420 [==============================] - 1s 3ms/step - loss: 2.1080 - sparse_categorical_accuracy: 0.0984\n",
      "Epoch 39/100\n",
      "420/420 [==============================] - 1s 4ms/step - loss: 2.2010 - sparse_categorical_accuracy: 0.0984\n",
      "Epoch 40/100\n",
      "420/420 [==============================] - 1s 3ms/step - loss: 2.1468 - sparse_categorical_accuracy: 0.0984\n",
      "Epoch 41/100\n",
      "420/420 [==============================] - 1s 3ms/step - loss: 2.2113 - sparse_categorical_accuracy: 0.0984\n",
      "Epoch 42/100\n",
      "420/420 [==============================] - 1s 3ms/step - loss: 2.1663 - sparse_categorical_accuracy: 0.0984\n",
      "Epoch 43/100\n",
      "420/420 [==============================] - 1s 3ms/step - loss: 2.1098 - sparse_categorical_accuracy: 0.0984\n",
      "Epoch 44/100\n",
      "420/420 [==============================] - 2s 4ms/step - loss: 2.0883 - sparse_categorical_accuracy: 0.0984\n",
      "Epoch 45/100\n",
      "420/420 [==============================] - 2s 4ms/step - loss: 2.0894 - sparse_categorical_accuracy: 0.0984\n",
      "Epoch 46/100\n",
      "420/420 [==============================] - 2s 4ms/step - loss: 2.0943 - sparse_categorical_accuracy: 0.0984\n",
      "Epoch 47/100\n",
      "420/420 [==============================] - 1s 3ms/step - loss: 2.0899 - sparse_categorical_accuracy: 0.0984\n",
      "Epoch 48/100\n",
      "420/420 [==============================] - 1s 3ms/step - loss: 2.1111 - sparse_categorical_accuracy: 0.0984\n",
      "Epoch 49/100\n",
      "420/420 [==============================] - 1s 3ms/step - loss: 2.0953 - sparse_categorical_accuracy: 0.0984\n",
      "Epoch 50/100\n",
      "420/420 [==============================] - 1s 4ms/step - loss: 2.1737 - sparse_categorical_accuracy: 0.0984\n",
      "Epoch 51/100\n",
      "420/420 [==============================] - 1s 3ms/step - loss: 2.3126 - sparse_categorical_accuracy: 0.0984\n",
      "Epoch 52/100\n",
      "420/420 [==============================] - 1s 3ms/step - loss: 2.1285 - sparse_categorical_accuracy: 0.0984\n",
      "Epoch 53/100\n",
      "420/420 [==============================] - 2s 5ms/step - loss: 2.1198 - sparse_categorical_accuracy: 0.0984\n",
      "Epoch 54/100\n",
      "420/420 [==============================] - 2s 4ms/step - loss: 2.1455 - sparse_categorical_accuracy: 0.0984\n",
      "Epoch 55/100\n",
      "420/420 [==============================] - 2s 4ms/step - loss: 2.1260 - sparse_categorical_accuracy: 0.0984\n",
      "Epoch 56/100\n",
      "420/420 [==============================] - 2s 4ms/step - loss: 2.1027 - sparse_categorical_accuracy: 0.0984\n",
      "Epoch 57/100\n",
      "420/420 [==============================] - 2s 4ms/step - loss: 2.0637 - sparse_categorical_accuracy: 0.0984\n",
      "Epoch 58/100\n",
      "420/420 [==============================] - 2s 5ms/step - loss: 2.0422 - sparse_categorical_accuracy: 0.0984\n",
      "Epoch 59/100\n",
      "420/420 [==============================] - 2s 4ms/step - loss: 2.0070 - sparse_categorical_accuracy: 0.0984\n",
      "Epoch 60/100\n",
      "420/420 [==============================] - 2s 4ms/step - loss: 1.9127 - sparse_categorical_accuracy: 0.0984\n",
      "Epoch 61/100\n",
      "420/420 [==============================] - 1s 3ms/step - loss: 1.8009 - sparse_categorical_accuracy: 0.0984\n",
      "Epoch 62/100\n",
      "420/420 [==============================] - 1s 4ms/step - loss: 1.7592 - sparse_categorical_accuracy: 0.0984\n",
      "Epoch 63/100\n",
      "420/420 [==============================] - 1s 3ms/step - loss: 1.7444 - sparse_categorical_accuracy: 0.0984\n",
      "Epoch 64/100\n",
      "420/420 [==============================] - 1s 3ms/step - loss: 1.6795 - sparse_categorical_accuracy: 0.0984\n",
      "Epoch 65/100\n",
      "420/420 [==============================] - 1s 3ms/step - loss: 1.6778 - sparse_categorical_accuracy: 0.0984\n",
      "Epoch 66/100\n",
      "420/420 [==============================] - 2s 4ms/step - loss: 1.6709 - sparse_categorical_accuracy: 0.0984\n",
      "Epoch 67/100\n",
      "420/420 [==============================] - 1s 3ms/step - loss: 1.6407 - sparse_categorical_accuracy: 0.0984\n",
      "Epoch 68/100\n",
      "420/420 [==============================] - 1s 3ms/step - loss: 1.6633 - sparse_categorical_accuracy: 0.0984\n",
      "Epoch 69/100\n",
      "420/420 [==============================] - 1s 3ms/step - loss: 1.6212 - sparse_categorical_accuracy: 0.0984\n",
      "Epoch 70/100\n",
      "420/420 [==============================] - 1s 4ms/step - loss: 1.6419 - sparse_categorical_accuracy: 0.0984\n",
      "Epoch 71/100\n",
      "420/420 [==============================] - 1s 3ms/step - loss: 1.6569 - sparse_categorical_accuracy: 0.0984\n",
      "Epoch 72/100\n",
      "420/420 [==============================] - 1s 4ms/step - loss: 1.6203 - sparse_categorical_accuracy: 0.0984\n",
      "Epoch 73/100\n",
      "420/420 [==============================] - 1s 4ms/step - loss: 1.6664 - sparse_categorical_accuracy: 0.0984\n",
      "Epoch 74/100\n",
      "420/420 [==============================] - 1s 4ms/step - loss: 1.6031 - sparse_categorical_accuracy: 0.0984\n",
      "Epoch 75/100\n",
      "420/420 [==============================] - 1s 3ms/step - loss: 1.5985 - sparse_categorical_accuracy: 0.0984\n",
      "Epoch 76/100\n",
      "420/420 [==============================] - 1s 3ms/step - loss: 1.5743 - sparse_categorical_accuracy: 0.0984\n",
      "Epoch 77/100\n",
      "420/420 [==============================] - 1s 3ms/step - loss: 1.5291 - sparse_categorical_accuracy: 0.0984\n",
      "Epoch 78/100\n",
      "420/420 [==============================] - 1s 3ms/step - loss: 1.4496 - sparse_categorical_accuracy: 0.0984\n",
      "Epoch 79/100\n",
      "420/420 [==============================] - 1s 3ms/step - loss: 1.4223 - sparse_categorical_accuracy: 0.0984\n",
      "Epoch 80/100\n",
      "420/420 [==============================] - 1s 3ms/step - loss: 1.3770 - sparse_categorical_accuracy: 0.0984\n",
      "Epoch 81/100\n",
      "420/420 [==============================] - 1s 3ms/step - loss: 1.3642 - sparse_categorical_accuracy: 0.0984\n",
      "Epoch 82/100\n",
      "420/420 [==============================] - 1s 3ms/step - loss: 1.3728 - sparse_categorical_accuracy: 0.0984\n",
      "Epoch 83/100\n",
      "420/420 [==============================] - 1s 3ms/step - loss: 1.3526 - sparse_categorical_accuracy: 0.0984\n",
      "Epoch 84/100\n",
      "420/420 [==============================] - 1s 3ms/step - loss: 1.3845 - sparse_categorical_accuracy: 0.0984\n",
      "Epoch 85/100\n",
      "420/420 [==============================] - 1s 4ms/step - loss: 1.4164 - sparse_categorical_accuracy: 0.0984\n",
      "Epoch 86/100\n",
      "420/420 [==============================] - 1s 3ms/step - loss: 1.4162 - sparse_categorical_accuracy: 0.0984\n",
      "Epoch 87/100\n",
      "420/420 [==============================] - 1s 3ms/step - loss: 1.3671 - sparse_categorical_accuracy: 0.0984\n",
      "Epoch 88/100\n",
      "420/420 [==============================] - 1s 3ms/step - loss: 1.3865 - sparse_categorical_accuracy: 0.0984\n",
      "Epoch 89/100\n",
      "420/420 [==============================] - 2s 4ms/step - loss: 1.3447 - sparse_categorical_accuracy: 0.0984\n",
      "Epoch 90/100\n",
      "420/420 [==============================] - 1s 3ms/step - loss: 1.3424 - sparse_categorical_accuracy: 0.0984\n",
      "Epoch 91/100\n",
      "420/420 [==============================] - 1s 3ms/step - loss: 1.3530 - sparse_categorical_accuracy: 0.0984\n",
      "Epoch 92/100\n",
      "420/420 [==============================] - 1s 3ms/step - loss: 1.3093 - sparse_categorical_accuracy: 0.0984\n",
      "Epoch 93/100\n",
      "420/420 [==============================] - 1s 3ms/step - loss: 1.3176 - sparse_categorical_accuracy: 0.0984\n",
      "Epoch 94/100\n",
      "420/420 [==============================] - 1s 3ms/step - loss: 1.3326 - sparse_categorical_accuracy: 0.0984\n",
      "Epoch 95/100\n",
      "420/420 [==============================] - 1s 3ms/step - loss: 1.3159 - sparse_categorical_accuracy: 0.0984\n",
      "Epoch 96/100\n",
      "420/420 [==============================] - 1s 3ms/step - loss: 1.3568 - sparse_categorical_accuracy: 0.0984\n",
      "Epoch 97/100\n",
      "420/420 [==============================] - 1s 3ms/step - loss: 1.3270 - sparse_categorical_accuracy: 0.0984\n",
      "Epoch 98/100\n",
      "420/420 [==============================] - 1s 3ms/step - loss: 1.3086 - sparse_categorical_accuracy: 0.0984\n",
      "Epoch 99/100\n",
      "420/420 [==============================] - 1s 3ms/step - loss: 1.3026 - sparse_categorical_accuracy: 0.0984\n",
      "Epoch 100/100\n",
      "420/420 [==============================] - 1s 3ms/step - loss: 1.3161 - sparse_categorical_accuracy: 0.0984\n"
     ]
    },
    {
     "data": {
      "text/plain": [
       "<keras.callbacks.History at 0x2600e8d27a0>"
      ]
     },
     "execution_count": 149,
     "metadata": {},
     "output_type": "execute_result"
    }
   ],
   "source": [
    "model_2.fit(x_model_2,label, batch_size=100, epochs=100)"
   ]
  },
  {
   "cell_type": "code",
   "execution_count": 150,
   "metadata": {},
   "outputs": [
    {
     "name": "stdout",
     "output_type": "stream",
     "text": [
      "Epoch 1/10\n",
      "2100/2100 [==============================] - 31s 15ms/step - loss: 503.7318\n",
      "Epoch 2/10\n",
      "2100/2100 [==============================] - 30s 14ms/step - loss: 12.1818\n",
      "Epoch 3/10\n",
      "2100/2100 [==============================] - 30s 14ms/step - loss: 3.9020\n",
      "Epoch 4/10\n",
      "2100/2100 [==============================] - 31s 15ms/step - loss: 2.1372\n",
      "Epoch 5/10\n",
      "2100/2100 [==============================] - 30s 15ms/step - loss: 1.8235\n",
      "Epoch 6/10\n",
      "2100/2100 [==============================] - 31s 15ms/step - loss: 1.7911\n",
      "Epoch 7/10\n",
      "2100/2100 [==============================] - 30s 15ms/step - loss: 1.8490\n",
      "Epoch 8/10\n",
      "2100/2100 [==============================] - 31s 15ms/step - loss: 1.8254\n",
      "Epoch 9/10\n",
      "2100/2100 [==============================] - 31s 15ms/step - loss: 1.6821\n",
      "Epoch 10/10\n",
      "2100/2100 [==============================] - 31s 15ms/step - loss: 1.5461\n"
     ]
    },
    {
     "data": {
      "text/plain": [
       "<keras.callbacks.History at 0x2600e8560b0>"
      ]
     },
     "execution_count": 150,
     "metadata": {},
     "output_type": "execute_result"
    }
   ],
   "source": [
    "model.fit(lst_img,label,batch_size=20, epochs=10)"
   ]
  },
  {
   "cell_type": "code",
   "execution_count": 151,
   "metadata": {},
   "outputs": [],
   "source": [
    "df = pd.read_csv(\"test.csv\")"
   ]
  },
  {
   "cell_type": "code",
   "execution_count": 152,
   "metadata": {},
   "outputs": [
    {
     "name": "stdout",
     "output_type": "stream",
     "text": [
      "(784,)\n"
     ]
    }
   ],
   "source": [
    "\n",
    "col = df.columns\n",
    "\n",
    "img = df[col]\n",
    "a = [x for x in range(784)]\n",
    "b = np.reshape(a,(28,28))\n",
    "print(np.array(a).shape)\n",
    "lst_img = []\n",
    "for x in range(img.shape[0]):\n",
    "    a = np.array(img.iloc[x])\n",
    "    img_s = np.reshape(a,(28,28))\n",
    "    lst_img.append(img_s)"
   ]
  },
  {
   "cell_type": "code",
   "execution_count": 153,
   "metadata": {},
   "outputs": [],
   "source": [
    "lst_img = np.array(lst_img)"
   ]
  },
  {
   "cell_type": "code",
   "execution_count": 154,
   "metadata": {},
   "outputs": [
    {
     "name": "stdout",
     "output_type": "stream",
     "text": [
      "875/875 [==============================] - 5s 6ms/step\n"
     ]
    }
   ],
   "source": [
    "y_pre = model.predict(lst_img)"
   ]
  },
  {
   "cell_type": "code",
   "execution_count": 155,
   "metadata": {},
   "outputs": [],
   "source": [
    "df = pd.read_csv(\"test.csv\")"
   ]
  },
  {
   "cell_type": "code",
   "execution_count": 156,
   "metadata": {},
   "outputs": [],
   "source": [
    "x_model_2 = []\n",
    "img = df[col]\n",
    "for x in range(img.shape[0]):\n",
    "    x_model_2.append(img.iloc[x])\n",
    "\n",
    "x_model_2 = np.array(x_model_2)"
   ]
  },
  {
   "cell_type": "code",
   "execution_count": 157,
   "metadata": {},
   "outputs": [
    {
     "name": "stdout",
     "output_type": "stream",
     "text": [
      "875/875 [==============================] - 2s 2ms/step\n"
     ]
    }
   ],
   "source": [
    "y_pre = model_2.predict(x_model_2)"
   ]
  },
  {
   "cell_type": "code",
   "execution_count": 158,
   "metadata": {},
   "outputs": [],
   "source": [
    "for x in y_pre:\n",
    "    x[0] = round(x[0])\n",
    "    if x[0] < 0:\n",
    "        x[0] = 0"
   ]
  },
  {
   "cell_type": "code",
   "execution_count": 159,
   "metadata": {},
   "outputs": [],
   "source": [
    "y_pre = y_pre.astype(int)"
   ]
  },
  {
   "cell_type": "code",
   "execution_count": 160,
   "metadata": {},
   "outputs": [
    {
     "name": "stdout",
     "output_type": "stream",
     "text": [
      "[[1]\n",
      " [1]\n",
      " [6]\n",
      " ...\n",
      " [3]\n",
      " [6]\n",
      " [1]]\n"
     ]
    }
   ],
   "source": [
    "print(y_pre)"
   ]
  },
  {
   "cell_type": "code",
   "execution_count": 161,
   "metadata": {},
   "outputs": [
    {
     "name": "stdout",
     "output_type": "stream",
     "text": [
      "[3]\n"
     ]
    },
    {
     "data": {
      "image/png": "[encoded data removed]",
      "text/plain": [
       "<Figure size 640x480 with 1 Axes>"
      ]
     },
     "metadata": {},
     "output_type": "display_data"
    }
   ],
   "source": [
    "plt.imshow(lst_img[4])\n",
    "print(y_pre[4])"
   ]
  },
  {
   "cell_type": "code",
   "execution_count": 162,
   "metadata": {},
   "outputs": [],
   "source": [
    "ind = [x + 1 for x in range(len(y_pre))]"
   ]
  },
  {
   "cell_type": "code",
   "execution_count": 163,
   "metadata": {},
   "outputs": [
    {
     "name": "stdout",
     "output_type": "stream",
     "text": [
      "(28000,) (28000, 1)\n"
     ]
    }
   ],
   "source": [
    "print(np.array(ind).shape,y_pre.shape)"
   ]
  },
  {
   "cell_type": "code",
   "execution_count": 164,
   "metadata": {},
   "outputs": [],
   "source": [
    "df = pd.DataFrame({\"ImageId\" : ind, \"Label\" : np.reshape(y_pre, (y_pre.shape[0]))})"
   ]
  },
  {
   "cell_type": "code",
   "execution_count": 165,
   "metadata": {},
   "outputs": [
    {
     "data": {
      "text/html": [
       "<div>\n",
       "<style scoped>\n",
       "    .dataframe tbody tr th:only-of-type {\n",
       "        vertical-align: middle;\n",
       "    }\n",
       "\n",
       "    .dataframe tbody tr th {\n",
       "        vertical-align: top;\n",
       "    }\n",
       "\n",
       "    .dataframe thead th {\n",
       "        text-align: right;\n",
       "    }\n",
       "</style>\n",
       "<table border=\"1\" class=\"dataframe\">\n",
       "  <thead>\n",
       "    <tr style=\"text-align: right;\">\n",
       "      <th></th>\n",
       "      <th>ImageId</th>\n",
       "      <th>Label</th>\n",
       "    </tr>\n",
       "  </thead>\n",
       "  <tbody>\n",
       "    <tr>\n",
       "      <th>0</th>\n",
       "      <td>1</td>\n",
       "      <td>1</td>\n",
       "    </tr>\n",
       "    <tr>\n",
       "      <th>1</th>\n",
       "      <td>2</td>\n",
       "      <td>1</td>\n",
       "    </tr>\n",
       "    <tr>\n",
       "      <th>2</th>\n",
       "      <td>3</td>\n",
       "      <td>6</td>\n",
       "    </tr>\n",
       "    <tr>\n",
       "      <th>3</th>\n",
       "      <td>4</td>\n",
       "      <td>6</td>\n",
       "    </tr>\n",
       "    <tr>\n",
       "      <th>4</th>\n",
       "      <td>5</td>\n",
       "      <td>3</td>\n",
       "    </tr>\n",
       "    <tr>\n",
       "      <th>...</th>\n",
       "      <td>...</td>\n",
       "      <td>...</td>\n",
       "    </tr>\n",
       "    <tr>\n",
       "      <th>27995</th>\n",
       "      <td>27996</td>\n",
       "      <td>6</td>\n",
       "    </tr>\n",
       "    <tr>\n",
       "      <th>27996</th>\n",
       "      <td>27997</td>\n",
       "      <td>6</td>\n",
       "    </tr>\n",
       "    <tr>\n",
       "      <th>27997</th>\n",
       "      <td>27998</td>\n",
       "      <td>3</td>\n",
       "    </tr>\n",
       "    <tr>\n",
       "      <th>27998</th>\n",
       "      <td>27999</td>\n",
       "      <td>6</td>\n",
       "    </tr>\n",
       "    <tr>\n",
       "      <th>27999</th>\n",
       "      <td>28000</td>\n",
       "      <td>1</td>\n",
       "    </tr>\n",
       "  </tbody>\n",
       "</table>\n",
       "<p>28000 rows × 2 columns</p>\n",
       "</div>"
      ],
      "text/plain": [
       "       ImageId  Label\n",
       "0            1      1\n",
       "1            2      1\n",
       "2            3      6\n",
       "3            4      6\n",
       "4            5      3\n",
       "...        ...    ...\n",
       "27995    27996      6\n",
       "27996    27997      6\n",
       "27997    27998      3\n",
       "27998    27999      6\n",
       "27999    28000      1\n",
       "\n",
       "[28000 rows x 2 columns]"
      ]
     },
     "execution_count": 165,
     "metadata": {},
     "output_type": "execute_result"
    }
   ],
   "source": [
    "df"
   ]
  },
  {
   "cell_type": "code",
   "execution_count": 166,
   "metadata": {},
   "outputs": [],
   "source": [
    "df.to_csv(\"submission.csv\", index=False)"
   ]
  }
 ],
 "metadata": {
  "kernelspec": {
   "display_name": "Python 3",
   "language": "python",
   "name": "python3"
  },
  "language_info": {
   "codemirror_mode": {
    "name": "ipython",
    "version": 3
   },
   "file_extension": ".py",
   "mimetype": "text/x-python",
   "name": "python",
   "nbconvert_exporter": "python",
   "pygments_lexer": "ipython3",
   "version": "3.10.11"
  },
  "orig_nbformat": 4
 },
 "nbformat": 4,
 "nbformat_minor": 2
}
